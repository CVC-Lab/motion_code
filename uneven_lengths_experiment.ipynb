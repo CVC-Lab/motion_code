{
 "cells": [
  {
   "cell_type": "code",
   "execution_count": 1,
   "id": "6ff3dbcc",
   "metadata": {},
   "outputs": [
    {
     "name": "stderr",
     "output_type": "stream",
     "text": [
      "No GPU/TPU found, falling back to CPU. (Set TF_CPP_MIN_LOG_LEVEL=0 and rerun for more info.)\n"
     ]
    }
   ],
   "source": [
    "from motion_code import MotionCode\n",
    "import numpy as np\n",
    "from utils import plot_timeseries, plot_motion_codes\n",
    "from data_processing import load_data"
   ]
  },
  {
   "cell_type": "code",
   "execution_count": 2,
   "id": "7276ebc7",
   "metadata": {},
   "outputs": [
    {
     "name": "stderr",
     "output_type": "stream",
     "text": [
      "/mnt/c/Users/nguyn/Documents/github/motion_code/data_processing.py:11: WavFileWarning: Chunk (non-data) not understood, skipping it.\n",
      "  sample_rate, data = wavfile.read(file_name)\n"
     ]
    }
   ],
   "source": [
    "name = 'Sound'\n",
    "load_existing_data = False\n",
    "if load_existing_data:\n",
    "    data_path = 'data/noisy/' + name\n",
    "    data = np.load(data_path + '.npy', allow_pickle=True).item()\n",
    "    Y_train, labels_train = data.get('X_train'), data.get('y_train')\n",
    "    Y_test, labels_test = data.get('X_test'), data.get('y_test')\n",
    "else:\n",
    "    Y_train, labels_train = load_data(name, split='train')\n",
    "    Y_test, labels_test = load_data(name, split='test')"
   ]
  },
  {
   "cell_type": "code",
   "execution_count": 3,
   "id": "6330efa7",
   "metadata": {},
   "outputs": [
    {
     "name": "stdout",
     "output_type": "stream",
     "text": [
      "<class 'numpy.ndarray'> (16, 1, 100)\n"
     ]
    }
   ],
   "source": [
    "print(type(Y_train), Y_train.shape)"
   ]
  },
  {
   "cell_type": "code",
   "execution_count": 4,
   "id": "9bdb2756",
   "metadata": {},
   "outputs": [],
   "source": [
    "from data_processing import process_data_for_motion_codes"
   ]
  },
  {
   "cell_type": "code",
   "execution_count": 5,
   "id": "7773b7b6",
   "metadata": {},
   "outputs": [],
   "source": [
    "X_train, Y_train, labels_train = process_data_for_motion_codes(Y_train, labels_train)\n",
    "X_test, Y_test, labels_test = process_data_for_motion_codes(Y_test, labels_test)"
   ]
  },
  {
   "cell_type": "code",
   "execution_count": 6,
   "id": "e3f4882d",
   "metadata": {},
   "outputs": [
    {
     "data": {
      "text/plain": [
       "<Figure size 640x480 with 0 Axes>"
      ]
     },
     "metadata": {},
     "output_type": "display_data"
    }
   ],
   "source": [
    "label_names = ['absorptivity', 'anything']\n",
    "plot_timeseries(X_train, Y_train, labels_train, label_names=label_names,\n",
    "                        output_file='out/plot_train_uneven_length.png')"
   ]
  },
  {
   "cell_type": "code",
   "execution_count": 7,
   "id": "5e341a1a",
   "metadata": {},
   "outputs": [],
   "source": [
    "X_train, X_test, Y_train, Y_test = list(X_train), list(X_test), list(Y_train), list(Y_test)"
   ]
  },
  {
   "cell_type": "code",
   "execution_count": 8,
   "id": "ab7aa605",
   "metadata": {},
   "outputs": [
    {
     "name": "stdout",
     "output_type": "stream",
     "text": [
      "(100,) (100,)\n"
     ]
    }
   ],
   "source": [
    "print(X_train[0].shape, Y_train[0].shape)"
   ]
  },
  {
   "cell_type": "code",
   "execution_count": 9,
   "id": "3c91d04c",
   "metadata": {},
   "outputs": [],
   "source": [
    "def randomly_remove_data_points(X, Y, low_percent=0.8, high_percent=0.9):\n",
    "    X_removed = []\n",
    "    Y_removed = []\n",
    "    num_series = len(X_train)\n",
    "    for s in range(num_series):\n",
    "        series_len = X_train[s].shape[0]\n",
    "        num_remained = np.random.randint(low=int(low_percent*series_len), \n",
    "                                         high=int(high_percent*series_len))\n",
    "        idx = np.sort(np.random.choice(np.arange(series_len), size=num_remained, replace=False))\n",
    "        X_removed.append(np.copy(X_train[s][idx]))\n",
    "        Y_removed.append(np.copy(Y_train[s][idx]))\n",
    "    \n",
    "    return X_removed, Y_removed"
   ]
  },
  {
   "cell_type": "code",
   "execution_count": 10,
   "id": "c8fd06bb",
   "metadata": {},
   "outputs": [],
   "source": [
    "np.random.seed(seed=41)\n",
    "X_train_removed, Y_train_removed = randomly_remove_data_points(X_train, Y_train, low_percent=0.8, high_percent=0.95)"
   ]
  },
  {
   "cell_type": "code",
   "execution_count": 11,
   "id": "38300747",
   "metadata": {
    "scrolled": true
   },
   "outputs": [
    {
     "name": "stdout",
     "output_type": "stream",
     "text": [
      "[80, 81, 84, 81, 90, 80, 93, 90, 91, 94, 81, 94, 91, 82, 89, 94]\n"
     ]
    }
   ],
   "source": [
    "print([s.shape[0] for s in X_train_removed])"
   ]
  },
  {
   "cell_type": "code",
   "execution_count": 12,
   "id": "0a06bcf1",
   "metadata": {},
   "outputs": [],
   "source": [
    "# Build motion code\n",
    "model = MotionCode(m=10, Q=1, latent_dim=2, sigma_y=0.1)\n",
    "\n",
    "# Train model on unequal length Sound data\n",
    "model_path = 'saved_models/' + 'test_model_unequal_length'\n",
    "model.fit(X_train_removed, Y_train_removed, labels_train, model_path)"
   ]
  },
  {
   "cell_type": "code",
   "execution_count": 13,
   "id": "dbb9e90a",
   "metadata": {},
   "outputs": [
    {
     "name": "stderr",
     "output_type": "stream",
     "text": [
      "                                                                                                                        "
     ]
    },
    {
     "name": "stdout",
     "output_type": "stream",
     "text": [
      "Accurary: 0.9375\n"
     ]
    },
    {
     "name": "stderr",
     "output_type": "stream",
     "text": [
      "\r"
     ]
    }
   ],
   "source": [
    "# Perform prediction\n",
    "model.load(model_path)\n",
    "acc = model.classify_predict_on_batches(X_test_list=X_test, Y_test_list=Y_test, true_labels=labels_test)\n",
    "print('Accurary:', acc)"
   ]
  },
  {
   "cell_type": "code",
   "execution_count": 16,
   "id": "70460f20",
   "metadata": {},
   "outputs": [
    {
     "data": {
      "text/plain": [
       "<Figure size 640x480 with 0 Axes>"
      ]
     },
     "metadata": {},
     "output_type": "display_data"
    }
   ],
   "source": [
    "plot_timeseries(X_train_removed, Y_train_removed, labels_train, label_names=label_names,\n",
    "                        output_file='out/plot_train_uneven_length_removed.png')"
   ]
  },
  {
   "cell_type": "code",
   "execution_count": 15,
   "id": "1afdb7fd",
   "metadata": {},
   "outputs": [
    {
     "data": {
      "text/plain": [
       "<Figure size 640x480 with 0 Axes>"
      ]
     },
     "metadata": {},
     "output_type": "display_data"
    }
   ],
   "source": [
    "plot_motion_codes(X_train_removed, Y_train_removed, None, labels_train, label_names,\n",
    "                    model, output_dir='out/multiple/uneven_length',\n",
    "                    additional_data={'X': np.array(X_train), 'Y': np.array(Y_train)})"
   ]
  },
  {
   "cell_type": "code",
   "execution_count": null,
   "id": "a7dc2ed4",
   "metadata": {},
   "outputs": [],
   "source": []
  }
 ],
 "metadata": {
  "kernelspec": {
   "display_name": "Python 3 (ipykernel)",
   "language": "python",
   "name": "python3"
  },
  "language_info": {
   "codemirror_mode": {
    "name": "ipython",
    "version": 3
   },
   "file_extension": ".py",
   "mimetype": "text/x-python",
   "name": "python",
   "nbconvert_exporter": "python",
   "pygments_lexer": "ipython3",
   "version": "3.9.15"
  }
 },
 "nbformat": 4,
 "nbformat_minor": 5
}
