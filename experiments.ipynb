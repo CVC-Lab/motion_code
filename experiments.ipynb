{
 "cells": [
  {
   "cell_type": "code",
   "execution_count": null,
   "id": "b62a171f",
   "metadata": {},
   "outputs": [],
   "source": [
    "# Load model to see the trained parameters.\n",
    "from motion_code import MotionCode\n",
    "model = MotionCode(m=10, Q=1, latent_dim=2, sigma_y=0.1)\n",
    "datasets = ['FreezerSmallTrain', 'MoteStrain', 'Lightning7']\n",
    "for dataset in datasets:\n",
    "    print(dataset)\n",
    "    model_path = 'saved_models/' + dataset + '_classify'\n",
    "    model.load(model_path)\n",
    "    print(model.Z)\n",
    "    print(model.X_m)\n"
   ]
  },
  {
   "cell_type": "code",
   "execution_count": null,
   "id": "dbb9e90a",
   "metadata": {},
   "outputs": [],
   "source": [
    "from sparse_gp import sigmoid_inv\n",
    "import numpy as np\n",
    "m = 10; latent_dim = 2\n",
    "np.repeat(sigmoid_inv(np.linspace(0.1, 0.9, m)).reshape(1, -1), latent_dim, axis=0).swapaxes(0, 1)"
   ]
  },
  {
   "cell_type": "code",
   "execution_count": null,
   "id": "b1533342",
   "metadata": {},
   "outputs": [],
   "source": [
    "import requests"
   ]
  },
  {
   "cell_type": "code",
   "execution_count": null,
   "id": "484ee079",
   "metadata": {},
   "outputs": [],
   "source": [
    "url = 'https://www.alphavantage.co/query?function=TIME_SERIES_WEEKLY&symbol=IBM&apikey=7SSDUACMI9S2HDR4'\n",
    "#r = requests.get(url)\n",
    "#data = r.json()"
   ]
  },
  {
   "cell_type": "code",
   "execution_count": null,
   "id": "4c6ae8cc",
   "metadata": {},
   "outputs": [],
   "source": [
    "print(type(data))"
   ]
  },
  {
   "cell_type": "code",
   "execution_count": null,
   "id": "3fae866c",
   "metadata": {},
   "outputs": [],
   "source": [
    "import json\n",
    "with open(\"sample_stock.json\", \"w\") as outfile:\n",
    "    json.dump(data, outfile)"
   ]
  },
  {
   "cell_type": "code",
   "execution_count": 1,
   "id": "55d704de",
   "metadata": {},
   "outputs": [
    {
     "name": "stderr",
     "output_type": "stream",
     "text": [
      "No GPU/TPU found, falling back to CPU. (Set TF_CPP_MIN_LOG_LEVEL=0 and rerun for more info.)\n"
     ]
    },
    {
     "name": "stdout",
     "output_type": "stream",
     "text": [
      "cpu\n"
     ]
    }
   ],
   "source": [
    "from jax.lib import xla_bridge\n",
    "print(xla_bridge.get_backend().platform)"
   ]
  },
  {
   "cell_type": "code",
   "execution_count": null,
   "id": "d9570f03",
   "metadata": {},
   "outputs": [],
   "source": []
  }
 ],
 "metadata": {
  "kernelspec": {
   "display_name": "Python 3 (ipykernel)",
   "language": "python",
   "name": "python3"
  },
  "language_info": {
   "codemirror_mode": {
    "name": "ipython",
    "version": 3
   },
   "file_extension": ".py",
   "mimetype": "text/x-python",
   "name": "python",
   "nbconvert_exporter": "python",
   "pygments_lexer": "ipython3",
   "version": "3.9.7"
  }
 },
 "nbformat": 4,
 "nbformat_minor": 5
}
